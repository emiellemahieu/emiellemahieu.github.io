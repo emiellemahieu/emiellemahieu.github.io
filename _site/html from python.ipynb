{
 "cells": [
  {
   "cell_type": "code",
   "execution_count": 8,
   "id": "naval-mother",
   "metadata": {},
   "outputs": [],
   "source": [
    "import requests\n",
    "import urllib\n",
    "import json"
   ]
  },
  {
   "cell_type": "code",
   "execution_count": 40,
   "id": "naval-effectiveness",
   "metadata": {},
   "outputs": [],
   "source": [
    "u2 = urllib.request.urlopen('https://emiellemahieu.github.io')\n",
    "\n",
    "# for lines in u2.readlines():\n",
    "#     print (lines)"
   ]
  },
  {
   "cell_type": "code",
   "execution_count": 41,
   "id": "empirical-export",
   "metadata": {},
   "outputs": [
    {
     "data": {
      "text/plain": [
       "{'fp': <_io.BufferedReader name=67>,\n",
       " 'debuglevel': 0,\n",
       " '_method': 'GET',\n",
       " 'headers': <http.client.HTTPMessage at 0x7f8e411ec160>,\n",
       " 'msg': 'OK',\n",
       " 'version': 11,\n",
       " 'status': 200,\n",
       " 'reason': 'OK',\n",
       " 'chunked': False,\n",
       " 'chunk_left': 'UNKNOWN',\n",
       " 'length': 10369,\n",
       " 'will_close': True,\n",
       " 'code': 200,\n",
       " 'url': 'https://emiellemahieu.github.io'}"
      ]
     },
     "execution_count": 41,
     "metadata": {},
     "output_type": "execute_result"
    }
   ],
   "source": [
    "u2.__dict__"
   ]
  },
  {
   "cell_type": "code",
   "execution_count": 42,
   "id": "ahead-tobacco",
   "metadata": {},
   "outputs": [
    {
     "name": "stdout",
     "output_type": "stream",
     "text": [
      "b'<!DOCTYPE html><html><head> <!-- Include Meta Tags Here --><meta charset=\"UTF-8\"><meta name=\"viewport\" content=\"width=device-width, initial-scale=1.0\"><meta http-equiv=\"X-UA-Compatible\" content=\"ie=edge\"><meta name=\"viewport\" content=\"width=device-width, height=device-height, initial-scale=1 user-scalable=no, shrink-to-fit=no\"><meta content=\\'#000000\\' name=\\'theme-color\\'/><meta name=\"keywords\" content=\"Emiel, Lemahieu, Researcher, Machine Learning, Finance\"><title>Emiel Lemahieu</title><!-- Open Graph general (Facebook, Pinterest & Google+) --><meta name=\"og:title\" content=\"Emiel Lemahieu\"><meta name=\"og:description\" content=\"Quantitative Researcher\"><meta name=\"og:image\" content=\"\"><meta name=\"og:image:alt\" content=\"Emiel Lemahieu\"><meta name=\"og:url\" content=\"emiellemahieu.github.io/\"><meta name=\"article:author\" content=\"https://www.facebook.com/\"><meta name=\"og:site_name\" content=\"Emiel Lemahieu\"><meta name=\"og:type\" content=\"website\"> <!-- Twitter --><meta property=\"twitter:card\" content=\"summary_large_image\"/><meta name=\"twitter:title\" content=\"Emiel Lemahieu\"><meta name=\"twitter:description\" content=\"Quantitative Researcher\"><meta name=\"twitter:site\" content=\"@\"><meta name=\"twitter:creator\" content=\"@\"><meta name=\"twitter:image:src\" content=\"\"> <!-- Search Engine --><meta name=\"description\" content=\"Quantitative Researcher\"><meta name=\"image\" content=\"\"> <!-- Schema.org for Google --><meta itemprop=\"name\" content=\"Emiel Lemahieu\"><meta name=\"author\" content=\"Emiel Lemahieu\"/><meta itemprop=\"description\" content=\"Quantitative Researcher\"><meta itemprop=\"image\" content=\"\"> <!-- Global site tag (gtag.js) - Google Analytics --> <script async src=\"https://www.googletagmanager.com/gtag/js?id=G-291QW7VCC2\"></script> <script> window.dataLayer = window.dataLayer || []; function gtag() { dataLayer.push(arguments); } gtag(\\'js\\', new Date()); gtag(\\'config\\', \\'G-291QW7VCC2\\'); </script><title>Emiel Lemahieu</title><link rel=\"stylesheet\" href=\"/assets/css/style.css\"> <script src=\"https://kit.fontawesome.com/6a97161b76.js\" crossorigin=\"anonymous\"></script><link rel=\"shortcut icon\" href=\"emiellemahieu.github.io/assets/images/cv_pic.png\" type=\"image/x-icon\"></head><body><nav class=\"navbar is-black is-fixed-top\" role=\"navigation\" aria-label=\"main navigation\" id=\"navbar\"><div class=\"container\"> <!-- logo or branding image on left side --><div class=\"navbar-brand\"> <a class=\"navbar-item\" href=\"emiellemahieu.github.io/#\"> <strong>Emiel Lemahieu</strong> </a><div class=\"navbar-burger\" data-target=\"navbar-menu\"> <span></span> <span></span> <span></span></div></div><!-- children of navbar-menu must be navbar-start and/or navbar-end --><div class=\"navbar-menu has-background-black\" id=\"navbar-menu\"> <!-- navbar items | left side --> <!--<div class=\"navbar-start\"></div>--> <!-- navbar items | right side --><div class=\"navbar-end\"> <a class=\"navbar-item is-active\" href=\"emiellemahieu.github.io/#\">HOME</a> <a class=\"navbar-item\" href=\"emiellemahieu.github.io/#about\">ABOUT</a> <a class=\"navbar-item\" href=\"emiellemahieu.github.io/#contact\">CONTACT</a> <!-- <a class=\"navbar-item \" href=\"emiellemahieu.github.io/blog\">BLOG</a> --><div class=\"navbar-item has-dropdown is-hoverable\"> <a class=\"navbar-link\"> MORE </a><div class=\"navbar-dropdown has-background-black is-left\"> <a href=\"emiellemahieu.github.io/projects\" class=\"navbar-item has-text-grey-light \"> Research Projects </a> <a href=\"emiellemahieu.github.io/supervision\" class=\"navbar-item has-text-grey-light \"> MSc Theses and Supervision </a> <!--<hr class=\"navbar-divider\"> <a class=\"navbar-item\"> Report an issue </a> --></div></div></div></div></div></nav><!-- Bulma Navbar JS --> <script> document.addEventListener(\\'DOMContentLoaded\\', function () { /* Get all \"navbar-burger\" elements */ var $navbarBurgers = Array.prototype.slice.call(document.querySelectorAll(\\'.navbar-burger\\'), 0); /* Check if there are any navbar burgers */ if ($navbarBurgers.length > 0) { /* Add a click event on each of them */ $navbarBurgers.forEach(function ($el) { $el.addEventListener(\\'click\\', function () { /* Get the target from the \"data-target\" attribute */ var target = $el.dataset.target; var $target = document.getElementById(target); /* Toggle the class on both the \"navbar-burger\" and the \"navbar-menu\" */ $el.classList.toggle(\\'is-active\\'); $target.classList.toggle(\\'is-active\\'); }); }); } }); </script><section class=\"hero is-fullheight has-text-centered\" id=\"hero\"><div class=\"hero-body\"><div class=\"container\"><h1 class=\"title has-text-white is-size-1 is-uppercase has-text-weight-bold\"> Emiel Lemahieu</h1><h3 class=\"subtitle has-text-white-bis is-uppercase has-text-weight-medium is-marginless\"> Quantitative Researcher</h3><hr> <a href=\"emiellemahieu.github.io/#about\" class=\"button is-white is-rounded is-outlined is-uppercase has-text-weight-normal\">Read More</a> </a></div></div></section><section class=\"hero is-fullheight has-text-centered has-background-white-ter\" id=\"about\"><div class=\"hero-body\"><div class=\"container\"><div class=\"columns\"><div class=\"column is-one-fifth-desktop is-one-fifth-tablet is-one-fifth-fullhd\"><figure class=\"image\"> <img class=\"is-rounded\" src=\"./assets/images/cv_pic.png\" alt=\"Emiel Lemahieu\"></figure></div><div class=\"column has-text-left-desktop has-text-left-tablet has-text-left-fullhd has-text-left-widescreen\"><p>I\\'m a quantitative researcher at the Belgian robo-advisory <strong>InvestSuite</strong> and <strong>Ghent University</strong>. My research focuses on <strong>data-driven portfolio construction</strong> techniques. Starting from the general aim to offer smooth-ride investments to retail investors through robo-advisory tools, I\\'ve explored traditional risk-based optimization techniques and ways to improve them using novel machine learning approaches. In particular, my research interests lie in using generative machine learning techniques for simulating optimal drawdown portfolios and graph-based methods to assess common sources of downside risk. I hold an <strong> MSc Finance</strong> from <strong>Ghent University</strong> and <strong> King\\'s College London</strong> and I\\'m currently pursuing a <strong>PhD</strong> at <strong>Ghent University</strong>.</p><br><div class=\"container columns is-centered\"><div> <a href=\"emiellemahieu.github.io/#contact\" class=\"button is-rounded is-uppercase has-text-weight-normal is-black is-outlined\">Contact Me</a> </a></div><div> <a href=\"emiellemahieu.github.io/projects\" class=\"button is-rounded is-uppercase has-text-weight-normal is-black is-outlined\">My Projects </a> </a></div><!--<div> <a href=\"emiellemahieu.github.io/blog\" class=\"button is-rounded is-uppercase has-text-weight-normal is-black is-outlined\">Blog</a> </a></div>--></div></div></div></div></section><section class=\"hero is-fullheight has-text-centered\" id=\"contact\"><div class=\"hero-body\"><div class=\"container\"> <a id=\"contact-button\" href=\"mailto:emiel.lemahieu@investsuite.com\" class=\"button is-rounded is-uppercase has-text-weight-normal is-black is-outlined has-text-weight-semibold column is-two-fifths\" target=\"_blank\"> <i class=\"fas fa-envelope\"></i>Send me an Email </a><hr><h3 class=\"is-size-5 is-uppercase has-text-weight-semibold has-text-black is-marginless\"> find me here</h3><iframe src=\"https://www.google.com/maps/embed?pb=!1m18!1m12!1m3!1d2508.5454380841616!2d3.724407951294459!3d51.04301575227077!2m3!1f0!2f0!3f0!3m2!1i1024!2i768!4f13.1!3m3!1m2!1s0x47c37150bd48f669%3A0x47793bdde137b8fe!2sSint-Pietersplein%206%2C%209000%20Gent!5e0!3m2!1sen!2sbe!4v1661854803222!5m2!1sen!2sbe\" width=\"850\" height=\"300\" style=\"border:0;\" allowfullscreen=\"\" loading=\"lazy\" referrerpolicy=\"no-referrer-when-downgrade\"></iframe><div class=\"column is-full is-size-3\"> <a href=\"https://linkedin.com/in/emiel-lemahieu\" target=\"_blank\" class=\"has-text-black\"><i class=\"fab fa-linkedin\"></i></a> <a href=\"http://www.github.com/emiellemahieu\" target=\"_blank\" class=\"has-text-black\"><i class=\"fab fa-github\"></i></a></div></div></div></section><!--Footer begins here--><footer id=\"footer\"> <!--Footer Button--><div class=\"container has-text-centered has-background-grey-darker\" id=\"backtotop\"> <a class=\"has-text-white\" onclick=\"window.scroll(0,0)\">BACK TO TOP</a></div><!--Footer Main Section--><div class=\"has-background-grey-darker\"><div class=\"container columns\"> <!--Name Section--><div class=\"column has-text-left-desktop has-text-centered-mobile\"> <a href=\"emiellemahieu.github.io/#about\"><div class=\"columns\"><div class=\"column is-one-fifth-desktop is-one-fifth-fullhd is-one-quarter-tablet\"><figure class=\"image is-64x64\"> <img class=\"is-rounded\" src=\"./assets/images/cv_pic.png\"></figure></div><!--<div class=\"column is-marginless\"><h5 class=\"has-text-grey-lighter\">Emiel Lemahieu</h5><div class=\"content has-text-grey\"><p>**Emiel Lemahieu** is a quantitative researcher at the Belgian robo-advi...</p></div></div>--></div></a></div><!--Link Section--> <!--<div class=\"column has-text-white\"><h3>More Links</h3><li> <a href=\"emiellemahieu.github.io/supervision\">MSc Theses and Supervision</a></li><li> <a target=\"_blank\" href=\"emiellemahieu.github.io/feed.xml\">Subscribe via RSS</a></li></div>--> <!-- Blog-post Section --> <!--<div class=\"column has-text-white\"><h3>Recent updates</h3><li> <a href=\"emiellemahieu.github.io/blog/sample-post\">Sample Post</a></li><li> <a href=\"emiellemahieu.github.io/blog/how-to-install-whatatheme\">How to Install and use WhatATheme?</a></li><li> <a href=\"emiellemahieu.github.io/blog/what-is-jekyll-how-to-use-it\">What is Jekyll? How to use it?</a></li></div>--></div></div><div class=\"has-background-black has-text-centered has-text-white\" id=\"credits\"> <i class=\"far fa-copyright\"></i> 2022 | Emiel Lemahieu - All rights preserved</div></footer></body><script> window.addEventListener(\"scroll\", function (event) { var scroll = this.scrollY; var item = document.getElementsByClassName(\\'navbar-item\\'); /* console.log(scroll); */ if (scroll < 565) { item[1].classList.add(\\'is-active\\'); item[2].classList.remove(\\'is-active\\'); item[3].classList.remove(\\'is-active\\'); } if (scroll > 565 && scroll < 1130) { item[1].classList.remove(\\'is-active\\'); item[2].classList.add(\\'is-active\\'); item[3].classList.remove(\\'is-active\\'); } if (scroll > 1130) { item[1].classList.remove(\\'is-active\\'); item[2].classList.remove(\\'is-active\\'); item[3].classList.add(\\'is-active\\'); } }); </script></html>\\r\\n'\n"
     ]
    }
   ],
   "source": [
    "ls = {}\n",
    "for i, lines in enumerate(u2.readlines()):\n",
    "    ls[i] = str(lines)\n",
    "    print(ls[i])"
   ]
  },
  {
   "cell_type": "code",
   "execution_count": 48,
   "id": "illegal-impossible",
   "metadata": {},
   "outputs": [
    {
     "data": {
      "text/plain": [
       "False"
      ]
     },
     "execution_count": 48,
     "metadata": {},
     "output_type": "execute_result"
    }
   ],
   "source": [
    "\"NY\" in ls[0]"
   ]
  }
 ],
 "metadata": {
  "kernelspec": {
   "display_name": "Python 3",
   "language": "python",
   "name": "python3"
  },
  "language_info": {
   "codemirror_mode": {
    "name": "ipython",
    "version": 3
   },
   "file_extension": ".py",
   "mimetype": "text/x-python",
   "name": "python",
   "nbconvert_exporter": "python",
   "pygments_lexer": "ipython3",
   "version": "3.8.5"
  }
 },
 "nbformat": 4,
 "nbformat_minor": 5
}
